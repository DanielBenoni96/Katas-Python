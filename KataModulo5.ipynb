{
 "cells": [
  {
   "cell_type": "markdown",
   "metadata": {},
   "source": [
    "# Modulo 5\n",
    "## Ejercicio1 - Utilizar operadores aritméticos"
   ]
  },
  {
   "cell_type": "code",
   "execution_count": null,
   "metadata": {},
   "outputs": [],
   "source": [
    "Tierra=149597870\n",
    "Jupiter=778547200\n",
    "d=(abs(Tierra-Jupiter))\n",
    "m=round(d*0.621)\n",
    "print(\"La distancia en km es de : %s km\"%d)\n",
    "print(\"La distancia en millas es de : %s millas\"%m)"
   ]
  },
  {
   "cell_type": "markdown",
   "metadata": {},
   "source": [
    "## Ejercicio 2: convierte cadenas en números y usa valores absolutos"
   ]
  },
  {
   "cell_type": "code",
   "execution_count": 1,
   "metadata": {},
   "outputs": [
    {
     "name": "stdout",
     "output_type": "stream",
     "text": [
      "La distancia en km es de : 323230102 km\n",
      "La distancia en millas es de : 200725893.342 millas\n"
     ]
    }
   ],
   "source": [
    "a=input(\"Introduzca la distancia del sol para el primer planeta\")\n",
    "b=input(\"Introduzca la distancia del sol para el segundo planeta\")\n",
    "a=int(a)\n",
    "b=int(b)\n",
    "\n",
    "c=(abs(a-b))\n",
    "d=c*0.621\n",
    "print(\"La distancia en km es de : %s km\"%c)\n",
    "print(\"La distancia en millas es de : %s millas\"%d)"
   ]
  }
 ],
 "metadata": {
  "interpreter": {
   "hash": "5d240ba0dc525c389faa33f5dcce5b4f32b6d6aa6d70d6d2dd929bd2b09ab69f"
  },
  "kernelspec": {
   "display_name": "Python 3.10.2 64-bit",
   "language": "python",
   "name": "python3"
  },
  "language_info": {
   "codemirror_mode": {
    "name": "ipython",
    "version": 3
   },
   "file_extension": ".py",
   "mimetype": "text/x-python",
   "name": "python",
   "nbconvert_exporter": "python",
   "pygments_lexer": "ipython3",
   "version": "3.10.2"
  },
  "orig_nbformat": 4
 },
 "nbformat": 4,
 "nbformat_minor": 2
}
