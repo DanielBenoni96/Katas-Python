{
 "cells": [
  {
   "cell_type": "markdown",
   "metadata": {},
   "source": [
    "# Módulo 8 - Administrar datos con diccionarios\n",
    "## Ejercicio 1: Creación de diccionarios de Python"
   ]
  },
  {
   "cell_type": "code",
   "execution_count": 18,
   "metadata": {},
   "outputs": [
    {
     "name": "stdout",
     "output_type": "stream",
     "text": [
      "marte tiene 2 lunas\n",
      "marte tiene un diametro de 6252 km\n"
     ]
    }
   ],
   "source": [
    "planetas={\n",
    "    \"nombre\":\"marte\",\n",
    "    \"lunas\":\"2\"\n",
    "    }\n",
    "\n",
    "print(f'{planetas[\"nombre\"]} tiene {planetas[\"lunas\"]} lunas')\n",
    "\n",
    "planetas[\"circunferencia en km\"]={\"polar\":6252,\"ecuatorial\":6792}\n",
    "print(f'{planetas[\"nombre\"]} tiene un diametro de {planetas[\"circunferencia en km\"][\"polar\"]} km')\n"
   ]
  },
  {
   "cell_type": "markdown",
   "metadata": {},
   "source": [
    "## Ejercicio 2: Programación dinámica con diccionarios\n"
   ]
  },
  {
   "cell_type": "code",
   "execution_count": 23,
   "metadata": {},
   "outputs": [
    {
     "name": "stdout",
     "output_type": "stream",
     "text": [
      "el promedio es 17.833333333333332\n"
     ]
    }
   ],
   "source": [
    "plunas = {\n",
    "    'mercury': 0,\n",
    "    'venus': 0,\n",
    "    'earth': 1,\n",
    "    'mars': 2,\n",
    "    'jupiter': 79,\n",
    "    'saturn': 82,\n",
    "    'uranus': 27,\n",
    "    'neptune': 14,\n",
    "    'pluto': 5,\n",
    "    'haumea': 2,\n",
    "    'makemake': 1,\n",
    "    'eris': 1\n",
    "}\n",
    "planetas = len(plunas.keys())\n",
    "lunas=plunas.values()\n",
    "i=0\n",
    "for j in lunas:\n",
    "    i=i+j\n",
    "\n",
    "prom=i/planetas\n",
    "print(f\"el promedio es {prom}\")"
   ]
  }
 ],
 "metadata": {
  "interpreter": {
   "hash": "5d240ba0dc525c389faa33f5dcce5b4f32b6d6aa6d70d6d2dd929bd2b09ab69f"
  },
  "kernelspec": {
   "display_name": "Python 3.10.2 64-bit",
   "language": "python",
   "name": "python3"
  },
  "language_info": {
   "codemirror_mode": {
    "name": "ipython",
    "version": 3
   },
   "file_extension": ".py",
   "mimetype": "text/x-python",
   "name": "python",
   "nbconvert_exporter": "python",
   "pygments_lexer": "ipython3",
   "version": "3.10.2"
  },
  "orig_nbformat": 4
 },
 "nbformat": 4,
 "nbformat_minor": 2
}
