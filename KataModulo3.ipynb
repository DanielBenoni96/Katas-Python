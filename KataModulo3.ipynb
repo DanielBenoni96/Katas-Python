{
 "cells": [
  {
   "cell_type": "markdown",
   "metadata": {},
   "source": [
    "# Modulo 3"
   ]
  },
  {
   "cell_type": "code",
   "execution_count": 16,
   "metadata": {},
   "outputs": [
    {
     "name": "stdout",
     "output_type": "stream",
     "text": [
      "peligro de colision\n"
     ]
    }
   ],
   "source": [
    "vasteroide= 49\n",
    "advertencia=25\n",
    "    \n",
    "if vasteroide>advertencia:\n",
    "    print(\"peligro de colision\")\n",
    "else:\n",
    "    print(\"Sin peligro\")"
   ]
  },
  {
   "cell_type": "code",
   "execution_count": 17,
   "metadata": {},
   "outputs": [
    {
     "name": "stdout",
     "output_type": "stream",
     "text": [
      "No produce luz\n"
     ]
    }
   ],
   "source": [
    "vasteroide= 19\n",
    "advertencia=20\n",
    "\n",
    "if vasteroide>advertencia:\n",
    "    print(\"Mira al cielo hay un asteroide\")\n",
    "elif vasteroide==advertencia:\n",
    "    print(\"Mira al cielo hay un asteroide\")\n",
    "else:\n",
    "    print(\"No produce luz\")\n"
   ]
  },
  {
   "cell_type": "code",
   "execution_count": 18,
   "metadata": {},
   "outputs": [
    {
     "name": "stdout",
     "output_type": "stream",
     "text": [
      "peligro de colision\n"
     ]
    }
   ],
   "source": [
    "t=25\n",
    "v=25\n",
    "l=20\n",
    "vasteroide= 40\n",
    "tasteroide=100\n",
    "if vasteroide>v and tasteroide>t:\n",
    "    print(\"peligro de colision\")\n",
    "elif vasteroide>l:\n",
    "    print(\"Mira al cielo hay un asteroide\")   \n",
    "else:\n",
    "    print(\"Sin peligro\")"
   ]
  }
 ],
 "metadata": {
  "interpreter": {
   "hash": "5d240ba0dc525c389faa33f5dcce5b4f32b6d6aa6d70d6d2dd929bd2b09ab69f"
  },
  "kernelspec": {
   "display_name": "Python 3.10.2 64-bit",
   "language": "python",
   "name": "python3"
  },
  "language_info": {
   "codemirror_mode": {
    "name": "ipython",
    "version": 3
   },
   "file_extension": ".py",
   "mimetype": "text/x-python",
   "name": "python",
   "nbconvert_exporter": "python",
   "pygments_lexer": "ipython3",
   "version": "3.10.2"
  },
  "orig_nbformat": 4
 },
 "nbformat": 4,
 "nbformat_minor": 2
}
