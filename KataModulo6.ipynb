{
 "cells": [
  {
   "cell_type": "markdown",
   "metadata": {},
   "source": [
    "# Módulo 6 - Introducción a las listas\n",
    "## Ejercicio1: Crear y usar listas de Python\n"
   ]
  },
  {
   "cell_type": "code",
   "execution_count": 2,
   "metadata": {},
   "outputs": [
    {
     "name": "stdout",
     "output_type": "stream",
     "text": [
      "El ultimo planeta es Pluton\n"
     ]
    }
   ],
   "source": [
    "planetas=[\"Mercurio\",\"Venus\",\"Tierra\",\"Marte\",\"Jupiter\",\"Saturno\",\"Urano\",\"Neptuno\"]\n",
    "planetas.append(\"Pluton\")\n",
    "print(\"El ultimo planeta es\",planetas[-1])"
   ]
  },
  {
   "cell_type": "markdown",
   "metadata": {},
   "source": [
    "## Ejercicio 2: Trabajando con datos de una lista"
   ]
  },
  {
   "cell_type": "code",
   "execution_count": 10,
   "metadata": {},
   "outputs": [
    {
     "name": "stdout",
     "output_type": "stream",
     "text": [
      "Los planetas mas cercanos al sol desde el planeta MARTE son ; ['mercurio', 'venus', 'tierra'] \n",
      "Los planetas mas alejados al sol desde el planeta MARTE son ; ['jupiter', 'saturno', 'urano', 'neptuno'] \n"
     ]
    }
   ],
   "source": [
    "planetas=[\"mercurio\",\"venus\",\"tierra\",\"marte\",\"jupiter\",\"saturno\",\"urano\",\"neptuno\"]\n",
    "a=input(\"Ingrese el plantera del que requiere información\")\n",
    "b=a.lower()\n",
    "busqueda=planetas.index(b)\n",
    "cercanos=planetas[0:busqueda]\n",
    "alejados=planetas[busqueda+1:]\n",
    "print(f\"Los planetas mas cercanos al sol desde el planeta {a} son ; {cercanos} \")\n",
    "print(f\"Los planetas mas alejados al sol desde el planeta {a} son ; {alejados} \")\n"
   ]
  }
 ],
 "metadata": {
  "interpreter": {
   "hash": "5d240ba0dc525c389faa33f5dcce5b4f32b6d6aa6d70d6d2dd929bd2b09ab69f"
  },
  "kernelspec": {
   "display_name": "Python 3.10.2 64-bit",
   "language": "python",
   "name": "python3"
  },
  "language_info": {
   "codemirror_mode": {
    "name": "ipython",
    "version": 3
   },
   "file_extension": ".py",
   "mimetype": "text/x-python",
   "name": "python",
   "nbconvert_exporter": "python",
   "pygments_lexer": "ipython3",
   "version": "3.10.2"
  },
  "orig_nbformat": 4
 },
 "nbformat": 4,
 "nbformat_minor": 2
}
